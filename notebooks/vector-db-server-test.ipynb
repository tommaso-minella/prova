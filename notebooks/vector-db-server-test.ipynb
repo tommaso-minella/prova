{
 "cells": [
  {
   "cell_type": "code",
   "execution_count": 1,
   "metadata": {},
   "outputs": [
    {
     "name": "stdout",
     "output_type": "stream",
     "text": [
      "Listing accessible databases:\n",
      "{\n",
      "  \"databases\": []\n",
      "}\n",
      "\n",
      "Querying the vector database for 'What are the challenges in construction?':\n",
      "Error: 500\n",
      "{\"detail\":\"403: Access forbidden\"}\n",
      "null\n"
     ]
    }
   ],
   "source": [
    "import requests\n",
    "import json\n",
    "\n",
    "# Define the base URL for your service\n",
    "base_url = \"http://localhost:8082\"\n",
    "\n",
    "# Function to list accessible databases for a user\n",
    "def list_databases(user_email):\n",
    "    url = f\"{base_url}/list_databases/\"\n",
    "    response = requests.get(url, params={\"user_email\": user_email})\n",
    "    if response.status_code == 200:\n",
    "        return response.json()\n",
    "    else:\n",
    "        print(f\"Error: {response.status_code}\")\n",
    "        print(response.json())\n",
    "\n",
    "# Function to query the vector database\n",
    "def query_vectordb(user_email, query):\n",
    "    url = f\"{base_url}/query/\"\n",
    "    headers = {\n",
    "        \"Content-Type\": \"application/json\",\n",
    "        \"accept\": \"application/json\",\n",
    "    }\n",
    "    data = {\n",
    "        \"user_email\": user_email,\n",
    "        \"query\": query,\n",
    "    }\n",
    "    response = requests.post(url, headers=headers, data=json.dumps(data))\n",
    "    if response.status_code == 200:\n",
    "        return response.json()\n",
    "    else:\n",
    "        print(f\"Error: {response.status_code}\")\n",
    "        print(response.text)  # Print the response text for more detailed error information\n",
    "\n",
    "# Testing the list_databases function\n",
    "user_email = \"user1@email.com\"\n",
    "print(\"Listing accessible databases:\")\n",
    "databases = list_databases(user_email)\n",
    "print(json.dumps(databases, indent=2))\n",
    "\n",
    "# Testing the query_vectordb function\n",
    "query_text = \"What are the challenges in construction?\"\n",
    "print(f\"\\nQuerying the vector database for '{query_text}':\")\n",
    "query_result = query_vectordb(user_email, query_text)\n",
    "print(json.dumps(query_result, indent=2))\n",
    "\n"
   ]
  }
 ],
 "metadata": {
  "kernelspec": {
   "display_name": "venv",
   "language": "python",
   "name": "python3"
  },
  "language_info": {
   "codemirror_mode": {
    "name": "ipython",
    "version": 3
   },
   "file_extension": ".py",
   "mimetype": "text/x-python",
   "name": "python",
   "nbconvert_exporter": "python",
   "pygments_lexer": "ipython3",
   "version": "3.12.3"
  }
 },
 "nbformat": 4,
 "nbformat_minor": 2
}
