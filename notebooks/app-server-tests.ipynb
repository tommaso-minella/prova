{
 "cells": [
  {
   "cell_type": "code",
   "execution_count": 1,
   "metadata": {},
   "outputs": [],
   "source": [
    "# Import necessary libraries\n",
    "import requests\n",
    "import json\n",
    "import uuid\n",
    "import time\n",
    "import asyncio\n",
    "import aiohttp\n",
    "\n",
    "# Define the base URL of the API\n",
    "BASE_URL = \"http://localhost:8081\"\n",
    "\n",
    "async def create_chat(session, user_id):\n",
    "    url = f\"{BASE_URL}/chats/\"\n",
    "    headers = {\"user-id\": user_id}\n",
    "    payload = {\"user_id\": user_id, \"session_id\": str(uuid.uuid4())}\n",
    "    async with session.post(url, headers=headers, json=payload) as response:\n",
    "        if response.status == 200:\n",
    "            print(f\"Chat created successfully for user {user_id}!\")\n",
    "            return await response.json()\n",
    "        else:\n",
    "            print(f\"Failed to create chat for user {user_id}: {response.status} - {await response.text()}\")\n",
    "            return None\n",
    "\n",
    "async def get_chats(session, user_id, skip=0, limit=10):\n",
    "    url = f\"{BASE_URL}/chats/?skip={skip}&limit={limit}\"\n",
    "    headers = {\"user-id\": user_id}\n",
    "    async with session.get(url, headers=headers) as response:\n",
    "        if response.status == 200:\n",
    "            return await response.json()\n",
    "        else:\n",
    "            print(f\"Failed to get chats for user {user_id}: {response.status} - {await response.text()}\")\n",
    "            return None\n",
    "\n",
    "async def get_chat(session, user_id, chat_id):\n",
    "    url = f\"{BASE_URL}/chats/{chat_id}\"\n",
    "    headers = {\"user-id\": user_id}\n",
    "    async with session.get(url, headers=headers) as response:\n",
    "        if response.status == 200:\n",
    "            return await response.json()\n",
    "        else:\n",
    "            print(f\"Failed to get chat for user {user_id}: {response.status} - {await response.text()}\")\n",
    "            return None\n",
    "\n",
    "async def delete_chat(session, user_id, chat_id):\n",
    "    url = f\"{BASE_URL}/chats/{chat_id}\"\n",
    "    headers = {\"user-id\": user_id}\n",
    "    async with session.delete(url, headers=headers) as response:\n",
    "        if response.status == 200:\n",
    "            print(f\"Chat {chat_id} deleted successfully for user {user_id}!\")\n",
    "        else:\n",
    "            print(f\"Failed to delete chat for user {user_id}: {response.status} - {await response.text()}\")\n",
    "\n",
    "async def add_message(session, user_id, chat_id, role, content):\n",
    "    url = f\"{BASE_URL}/chats/{chat_id}/messages/\"\n",
    "    headers = {\"user-id\": user_id}\n",
    "    payload = {\"role\": role, \"content\": content}\n",
    "    async with session.post(url, headers=headers, json=payload) as response:\n",
    "        if response.status == 200:\n",
    "            print(f\"Message added to chat {chat_id} for user {user_id}!\")\n",
    "            return await response.json()\n",
    "        else:\n",
    "            print(f\"Failed to add message for user {user_id}: {response.status} - {await response.text()}\")\n",
    "            return None\n",
    "\n",
    "async def get_messages(session, user_id, chat_id):\n",
    "    chat = await get_chat(session, user_id, chat_id)\n",
    "    if chat:\n",
    "        return chat.get(\"messages\", [])\n",
    "    else:\n",
    "        print(f\"Failed to get messages for chat {chat_id} of user {user_id}\")\n",
    "        return []\n",
    "\n",
    "async def list_all_messages(session, all_chats):\n",
    "    for user, chats in all_chats:\n",
    "        for chat_id in chats:\n",
    "            messages = await get_messages(session, user, chat_id)\n",
    "            print(f\"Messages for chat {chat_id} of user {user}:\")\n",
    "            for message in messages:\n",
    "                print(f\"  {message['role']}: {message['content']}\")\n",
    "\n",
    "async def list_all_chats(session, users):\n",
    "    for user in users:\n",
    "        chats = await get_chats(session, user)\n",
    "        if chats:\n",
    "            print(f\"Chats for user {user}:\")\n",
    "            for chat in chats:\n",
    "                print(f\"  Chat ID: {chat['_id']}, Session ID: {chat['session_id']}\")\n",
    "\n",
    "async def delete_all_chats(session, all_chats):\n",
    "    for user, chats in all_chats:\n",
    "        for chat_id in chats:\n",
    "            await delete_chat(session, user, chat_id)\n"
   ]
  },
  {
   "cell_type": "code",
   "execution_count": 2,
   "metadata": {},
   "outputs": [
    {
     "name": "stdout",
     "output_type": "stream",
     "text": [
      "Current user:  user_0@example.com\n",
      "Chat created successfully for user user_0@example.com!\n",
      "Message added to chat 666991b4e207611a154c0c7f for user user_0@example.com!\n",
      "Message added to chat 666991b4e207611a154c0c7f for user user_0@example.com!\n",
      "Message added to chat 666991b4e207611a154c0c7f for user user_0@example.com!\n",
      "Chat created successfully for user user_0@example.com!\n",
      "Message added to chat 666991b4e207611a154c0c80 for user user_0@example.com!\n",
      "Message added to chat 666991b4e207611a154c0c80 for user user_0@example.com!\n",
      "Message added to chat 666991b4e207611a154c0c80 for user user_0@example.com!\n",
      "Current user:  user_1@example.com\n",
      "Chat created successfully for user user_1@example.com!\n",
      "Message added to chat 666991b4e207611a154c0c81 for user user_1@example.com!\n",
      "Message added to chat 666991b4e207611a154c0c81 for user user_1@example.com!\n",
      "Message added to chat 666991b4e207611a154c0c81 for user user_1@example.com!\n",
      "Chat created successfully for user user_1@example.com!\n",
      "Message added to chat 666991b4e207611a154c0c82 for user user_1@example.com!\n",
      "Message added to chat 666991b4e207611a154c0c82 for user user_1@example.com!\n",
      "Message added to chat 666991b4e207611a154c0c82 for user user_1@example.com!\n",
      "Current user:  user_2@example.com\n",
      "Chat created successfully for user user_2@example.com!\n",
      "Message added to chat 666991b4e207611a154c0c83 for user user_2@example.com!\n",
      "Message added to chat 666991b4e207611a154c0c83 for user user_2@example.com!\n",
      "Message added to chat 666991b4e207611a154c0c83 for user user_2@example.com!\n",
      "Chat created successfully for user user_2@example.com!\n",
      "Message added to chat 666991b4e207611a154c0c84 for user user_2@example.com!\n",
      "Message added to chat 666991b4e207611a154c0c84 for user user_2@example.com!\n",
      "Message added to chat 666991b4e207611a154c0c84 for user user_2@example.com!\n",
      "Simulation completed. Chats created and messages added.\n"
     ]
    }
   ],
   "source": [
    "async def simulate_users_activity(num_users=5, num_chats_per_user=3, num_messages_per_chat=2):\n",
    "    users = [f\"user_{i}@example.com\" for i in range(num_users)]\n",
    "    all_chats = []\n",
    "\n",
    "    async with aiohttp.ClientSession() as session:\n",
    "        for user in users:\n",
    "            print(\"Current user: \", user)\n",
    "            user_chats = []\n",
    "            for _ in range(num_chats_per_user):\n",
    "                chat = await create_chat(session, user)\n",
    "                if chat:\n",
    "                    chat_id = chat.get(\"_id\")\n",
    "                    for n in range(num_messages_per_chat):\n",
    "                        await add_message(session, user, chat_id, \"user\", f\"Hello number {n} from {user}!\")\n",
    "                    user_chats.append(chat_id)\n",
    "            all_chats.append((user, user_chats))\n",
    "        return all_chats\n",
    "\n",
    "all_chats = await simulate_users_activity(num_users=3, num_chats_per_user=2, num_messages_per_chat=3)\n",
    "print(\"Simulation completed. Chats created and messages added.\")\n"
   ]
  },
  {
   "cell_type": "code",
   "execution_count": 3,
   "metadata": {},
   "outputs": [
    {
     "name": "stderr",
     "output_type": "stream",
     "text": [
      "Unclosed client session\n",
      "client_session: <aiohttp.client.ClientSession object at 0x7fd895982cc0>\n",
      "Unclosed connector\n",
      "connections: ['[(<aiohttp.client_proto.ResponseHandler object at 0x7fd89597e0f0>, 694.428053853)]']\n",
      "connector: <aiohttp.connector.TCPConnector object at 0x7fd895983ec0>\n"
     ]
    },
    {
     "name": "stdout",
     "output_type": "stream",
     "text": [
      "Listing all chats before deletion:\n",
      "Chats for user user_0@example.com:\n",
      "  Chat ID: 666991b4e207611a154c0c7f, Session ID: 2e542bd7-4619-4e3a-a6c6-487dc502c69d\n",
      "  Chat ID: 666991b4e207611a154c0c80, Session ID: 00c4f89c-7e6c-47bb-b08c-e18001b5f3ad\n",
      "Chats for user user_1@example.com:\n",
      "  Chat ID: 666991b4e207611a154c0c81, Session ID: f585d1c9-a7c9-46fe-8a31-02a9486378f0\n",
      "  Chat ID: 666991b4e207611a154c0c82, Session ID: a9367053-170e-4ded-835b-f5419667478e\n",
      "Chats for user user_2@example.com:\n",
      "  Chat ID: 666991b4e207611a154c0c83, Session ID: 48c3e30c-3229-4f5d-a5dd-4b24e0727140\n",
      "  Chat ID: 666991b4e207611a154c0c84, Session ID: d7161226-0911-4621-8f42-4b01b2e47d6d\n"
     ]
    }
   ],
   "source": [
    "print(\"Listing all chats before deletion:\")\n",
    "await list_all_chats(aiohttp.ClientSession(), [f\"user_{i}@example.com\" for i in range(3)])"
   ]
  },
  {
   "cell_type": "code",
   "execution_count": 4,
   "metadata": {},
   "outputs": [
    {
     "name": "stderr",
     "output_type": "stream",
     "text": [
      "Unclosed client session\n",
      "client_session: <aiohttp.client.ClientSession object at 0x7fd895c82120>\n",
      "Unclosed connector\n",
      "connections: ['[(<aiohttp.client_proto.ResponseHandler object at 0x7fd89597deb0>, 697.384601256)]']\n",
      "connector: <aiohttp.connector.TCPConnector object at 0x7fd8959a4560>\n"
     ]
    },
    {
     "name": "stdout",
     "output_type": "stream",
     "text": [
      "Messages for chat 666991b4e207611a154c0c7f of user user_0@example.com:\n",
      "  user: Hello number 0 from user_0@example.com!\n",
      "  assistant: <p>Hello! How can I assist you today?</p>\n",
      "  user: Hello number 1 from user_0@example.com!\n",
      "  assistant: <p>Hello! How can I assist you today?</p>\n",
      "  user: Hello number 2 from user_0@example.com!\n",
      "  assistant: <p>Hello! How can I assist you today?</p>\n",
      "Messages for chat 666991b4e207611a154c0c80 of user user_0@example.com:\n",
      "  user: Hello number 0 from user_0@example.com!\n",
      "  assistant: <p>Hello! How can I assist you today?</p>\n",
      "  user: Hello number 1 from user_0@example.com!\n",
      "  assistant: <p>Hello! How can I assist you today?</p>\n",
      "  user: Hello number 2 from user_0@example.com!\n",
      "  assistant: <p>Hello! How can I assist you today?</p>\n",
      "Messages for chat 666991b4e207611a154c0c81 of user user_1@example.com:\n",
      "  user: Hello number 0 from user_1@example.com!\n",
      "  assistant: <p>Hello! How can I assist you today?</p>\n",
      "  user: Hello number 1 from user_1@example.com!\n",
      "  assistant: <p>Hello! How can I assist you today?</p>\n",
      "  user: Hello number 2 from user_1@example.com!\n",
      "  assistant: <p>Hello! How can I assist you today?</p>\n",
      "Messages for chat 666991b4e207611a154c0c82 of user user_1@example.com:\n",
      "  user: Hello number 0 from user_1@example.com!\n",
      "  assistant: <p>Hello! How can I assist you today?</p>\n",
      "  user: Hello number 1 from user_1@example.com!\n",
      "  assistant: <p>Hello! How can I assist you today?</p>\n",
      "  user: Hello number 2 from user_1@example.com!\n",
      "  assistant: <p>Hello! How can I assist you today?</p>\n",
      "Messages for chat 666991b4e207611a154c0c83 of user user_2@example.com:\n",
      "  user: Hello number 0 from user_2@example.com!\n",
      "  assistant: <p>Hello! How can I assist you today?</p>\n",
      "  user: Hello number 1 from user_2@example.com!\n",
      "  assistant: <p>Hello! How can I assist you today?</p>\n",
      "  user: Hello number 2 from user_2@example.com!\n",
      "  assistant: <p>Hello! How can I assist you today?</p>\n",
      "Messages for chat 666991b4e207611a154c0c84 of user user_2@example.com:\n",
      "  user: Hello number 0 from user_2@example.com!\n",
      "  assistant: <p>Hello! How can I assist you today?</p>\n",
      "  user: Hello number 1 from user_2@example.com!\n",
      "  assistant: <p>Hello! How can I assist you today?</p>\n",
      "  user: Hello number 2 from user_2@example.com!\n",
      "  assistant: <p>Hello! How can I assist you today?</p>\n"
     ]
    }
   ],
   "source": [
    "await list_all_messages(aiohttp.ClientSession(), all_chats)\n"
   ]
  },
  {
   "cell_type": "code",
   "execution_count": 5,
   "metadata": {},
   "outputs": [
    {
     "name": "stderr",
     "output_type": "stream",
     "text": [
      "Unclosed client session\n",
      "client_session: <aiohttp.client.ClientSession object at 0x7f1a1d166990>\n",
      "Unclosed connector\n",
      "connections: ['[(<aiohttp.client_proto.ResponseHandler object at 0x7f1a1d1621b0>, 12659.824748551)]']\n",
      "connector: <aiohttp.connector.TCPConnector object at 0x7f1a2c115940>\n"
     ]
    },
    {
     "name": "stdout",
     "output_type": "stream",
     "text": [
      "Chat 6666cafcdbc13253825c23d0 deleted successfully for user user_0@example.com!\n",
      "Chat 6666cafcdbc13253825c23d1 deleted successfully for user user_0@example.com!\n",
      "Chat 6666cafcdbc13253825c23d2 deleted successfully for user user_1@example.com!\n",
      "Chat 6666cafcdbc13253825c23d3 deleted successfully for user user_1@example.com!\n",
      "Chat 6666cafcdbc13253825c23d4 deleted successfully for user user_2@example.com!\n",
      "Chat 6666cafcdbc13253825c23d5 deleted successfully for user user_2@example.com!\n",
      "All chats deleted.\n"
     ]
    }
   ],
   "source": [
    "await delete_all_chats(aiohttp.ClientSession(), all_chats)\n",
    "print(\"All chats deleted.\")"
   ]
  },
  {
   "cell_type": "code",
   "execution_count": 6,
   "metadata": {},
   "outputs": [
    {
     "name": "stderr",
     "output_type": "stream",
     "text": [
      "Unclosed client session\n",
      "client_session: <aiohttp.client.ClientSession object at 0x7f1a1d1895e0>\n",
      "Unclosed connector\n",
      "connections: ['[(<aiohttp.client_proto.ResponseHandler object at 0x7f1a1d162510>, 12659.857007143)]']\n",
      "connector: <aiohttp.connector.TCPConnector object at 0x7f1a1d189340>\n"
     ]
    },
    {
     "name": "stdout",
     "output_type": "stream",
     "text": [
      "Listing all chats after deletion:\n"
     ]
    }
   ],
   "source": [
    "print(\"Listing all chats after deletion:\")\n",
    "await list_all_chats(aiohttp.ClientSession(), [f\"user_{i}@example.com\" for i in range(3)])"
   ]
  }
 ],
 "metadata": {
  "kernelspec": {
   "display_name": "venv",
   "language": "python",
   "name": "python3"
  },
  "language_info": {
   "codemirror_mode": {
    "name": "ipython",
    "version": 3
   },
   "file_extension": ".py",
   "mimetype": "text/x-python",
   "name": "python",
   "nbconvert_exporter": "python",
   "pygments_lexer": "ipython3",
   "version": "3.12.3"
  }
 },
 "nbformat": 4,
 "nbformat_minor": 2
}
